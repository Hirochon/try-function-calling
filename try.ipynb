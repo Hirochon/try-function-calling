{
 "cells": [
  {
   "cell_type": "code",
   "execution_count": 1,
   "metadata": {},
   "outputs": [],
   "source": [
    "from dotenv import load_dotenv\n",
    "load_dotenv(\"OPENAI_API_KEY\")\n",
    "load_dotenv(\"OPENAI_ORG_ID\")\n",
    "import os\n",
    "import openai\n",
    "import json"
   ]
  },
  {
   "cell_type": "code",
   "execution_count": 2,
   "metadata": {},
   "outputs": [],
   "source": [
    "openai.organization = os.getenv(\"OPENAI_ORG_ID\")\n",
    "openai.api_key = os.getenv(\"OPENAI_API_KEY\")"
   ]
  },
  {
   "cell_type": "code",
   "execution_count": 3,
   "metadata": {},
   "outputs": [],
   "source": [
    "def stream_response(response):\n",
    "    for chunk in response:\n",
    "        if chunk[\"choices\"][0] == \"stop\":\n",
    "            break\n",
    "        if \"content\" not in chunk[\"choices\"][0][\"delta\"]:\n",
    "            continue\n",
    "        print(chunk[\"choices\"][0][\"delta\"][\"content\"], end=\"\")"
   ]
  },
  {
   "cell_type": "code",
   "execution_count": 4,
   "metadata": {},
   "outputs": [],
   "source": [
    "def get_current_weather(location, is_clothing_index, unit=\"摂氏\"):\n",
    "    \"\"\"受け取った場所の天気を返す\"\"\"\n",
    "    if is_clothing_index:\n",
    "        weather_info = {\n",
    "            \"location\": location,\n",
    "            \"temperature\": \"-100\",\n",
    "            \"unit\": unit,\n",
    "            \"forecast\": [\"大雪\", \"強風\"],\n",
    "            \"is_clothing_index\": \"熊の毛皮を最低10枚は重ね着してください\"\n",
    "        }\n",
    "    else:\n",
    "        weather_info = {\n",
    "            \"location\": location,\n",
    "            \"temperature\": \"27\",\n",
    "            \"unit\": unit,\n",
    "            \"forecast\": [\"大雨\", \"落雷\"],\n",
    "        }\n",
    "    return json.dumps(weather_info)"
   ]
  },
  {
   "cell_type": "code",
   "execution_count": 5,
   "metadata": {},
   "outputs": [],
   "source": [
    "def run_conversation(user_message: str):\n",
    "    response = openai.ChatCompletion.create(\n",
    "        model=\"gpt-3.5-turbo-0613\",\n",
    "        messages=[{\"role\": \"user\", \"content\": user_message}],\n",
    "        functions=[\n",
    "            {\n",
    "                \"name\": \"get_current_weather\",\n",
    "                \"description\": \"与えられた場所から現在の天気を取得する\",\n",
    "                \"parameters\": {\n",
    "                    \"type\": \"object\",\n",
    "                    \"properties\": {\n",
    "                        \"location\": {\n",
    "                            \"type\": \"string\",\n",
    "                            \"description\": \"都道府県と市町村。例えば、東京都。\",\n",
    "                        },\n",
    "                        \"unit\": {\n",
    "                            \"type\": \"string\",\n",
    "                            \"description\": \"温度の単位。基本は摂氏。\",\n",
    "                            \"enum\": [\"摂氏\", \"華氏\"]\n",
    "                        },\n",
    "                        \"is_clothing_index\": {\n",
    "                            \"type\": \"boolean\",\n",
    "                            \"description\": \"どんな服装が良いかを含めるかどうか。例えば、True\",\n",
    "                            \"enum\": [True, False]\n",
    "                        }\n",
    "                    },\n",
    "                    \"required\": [\"location\", \"is_clothing_index\"],\n",
    "                },\n",
    "            }\n",
    "        ],\n",
    "        function_call=\"auto\",\n",
    "    )\n",
    "\n",
    "    message = response[\"choices\"][0][\"message\"]\n",
    "\n",
    "    if message.get(\"function_call\"):\n",
    "        function_name = message[\"function_call\"][\"name\"]\n",
    "        arguments = json.loads(message[\"function_call\"][\"arguments\"])\n",
    "\n",
    "        function_response = get_current_weather(\n",
    "            location=arguments.get(\"location\"),\n",
    "            unit=arguments.get(\"unit\"),\n",
    "            is_clothing_index=arguments.get(\"is_clothing_index\"),\n",
    "        )\n",
    "\n",
    "        second_response = openai.ChatCompletion.create(\n",
    "            model=\"gpt-3.5-turbo-0613\",\n",
    "            messages=[\n",
    "                {\"role\": \"user\", \"content\": user_message},\n",
    "                message,\n",
    "                {\n",
    "                    \"role\": \"function\",\n",
    "                    \"name\": function_name,\n",
    "                    \"content\": function_response,\n",
    "                },\n",
    "            ],\n",
    "            stream=True,\n",
    "        )\n",
    "        return second_response"
   ]
  },
  {
   "cell_type": "code",
   "execution_count": 8,
   "metadata": {},
   "outputs": [
    {
     "name": "stdout",
     "output_type": "stream",
     "text": [
      "現在の渋谷区の天気は、27℃で、大雨と落雷が予想されています。"
     ]
    }
   ],
   "source": [
    "response = run_conversation(\"現在の渋谷区の天気を教えて！\")\n",
    "stream_response(response)"
   ]
  },
  {
   "cell_type": "code",
   "execution_count": 9,
   "metadata": {},
   "outputs": [
    {
     "name": "stdout",
     "output_type": "stream",
     "text": [
      "現在の渋谷区の天気は、大雪で強風です。気温は-100℃です。服装指数は、熊の毛皮を最低10枚は重ね着してくださいとなっています。十分に暖かな服装で外出するようにしてください。"
     ]
    }
   ],
   "source": [
    "response = run_conversation(\"現在の渋谷区の天気を教えて、服装指数についても教えてください\")\n",
    "stream_response(response)"
   ]
  },
  {
   "cell_type": "code",
   "execution_count": null,
   "metadata": {},
   "outputs": [],
   "source": []
  }
 ],
 "metadata": {
  "kernelspec": {
   "display_name": "Python 3",
   "language": "python",
   "name": "python3"
  },
  "language_info": {
   "codemirror_mode": {
    "name": "ipython",
    "version": 3
   },
   "file_extension": ".py",
   "mimetype": "text/x-python",
   "name": "python",
   "nbconvert_exporter": "python",
   "pygments_lexer": "ipython3",
   "version": "3.11.3"
  },
  "orig_nbformat": 4
 },
 "nbformat": 4,
 "nbformat_minor": 2
}
